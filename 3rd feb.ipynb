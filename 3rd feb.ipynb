{
 "cells": [
  {
   "cell_type": "code",
   "execution_count": 2,
   "id": "dea0d498-8482-4190-b829-0f905e28fbcf",
   "metadata": {},
   "outputs": [
    {
     "data": {
      "text/plain": [
       "[1, 3, 5, 7, 9, 11, 13, 15, 17, 19, 21, 23, 25]"
      ]
     },
     "execution_count": 2,
     "metadata": {},
     "output_type": "execute_result"
    }
   ],
   "source": [
    "#1) Which keyword is used to create a function? Create a function to return a list of odd numbers in the range of 1 to 25.\n",
    "'''\n",
    "def keyword is used to create a function in python.\n",
    "'''\n",
    "\n",
    "def odd_no():\n",
    "    l=[]\n",
    "    for i in range(1,26):\n",
    "        if i%2!=0:\n",
    "            l.append(i)\n",
    "    return l\n",
    "odd_no()"
   ]
  },
  {
   "cell_type": "code",
   "execution_count": 5,
   "id": "09ca5c10-e50b-47d7-8177-51315957e42e",
   "metadata": {},
   "outputs": [
    {
     "name": "stdout",
     "output_type": "stream",
     "text": [
      "Use of *args :\n",
      "Pranav\n",
      "Thakkar\n",
      "19\n",
      "\n",
      "Use of **kwargs :\n",
      "Fname = Pranav\n",
      "Lname = Thakkar\n",
      "age = 19\n"
     ]
    }
   ],
   "source": [
    "#2) Why *args and **kwargs is used in some functions? Create a function each for *args and **kwargs to demonstrate their use.\n",
    "'''\n",
    "    *args (Non-Keyword Arguments)\n",
    "    **kwargs (Keyword Arguments)\n",
    "    \n",
    "    --->The special syntax *args in function definitions in python is used to pass a variable number of arguments to a function.\n",
    "        It is used to pass a non-key worded, variable-length argument list. \n",
    "        \n",
    "    --->The special syntax **kwargs in function definitions in python is used to pass a keyworded, variable-length argument list.\n",
    "        We use the name kwargs with the double star. \n",
    "        The reason is that the double star allows us to pass through keyword arguments (and any number of them).\n",
    "'''\n",
    "print('Use of *args :')\n",
    "def test(*args):\n",
    "    for arg in args:\n",
    "        print(arg)\n",
    "\n",
    "test('Pranav','Thakkar',19)\n",
    "\n",
    "print('\\nUse of **kwargs :')\n",
    "def test1(**kwargs):\n",
    "    for x,y in kwargs.items():\n",
    "        print(x,'=',y)\n",
    "        \n",
    "test1(Fname='Pranav',Lname='Thakkar',age=19)\n"
   ]
  },
  {
   "cell_type": "code",
   "execution_count": 7,
   "id": "3a23378a-2f61-49c3-ac0e-d47384051950",
   "metadata": {},
   "outputs": [
    {
     "name": "stdout",
     "output_type": "stream",
     "text": [
      "2\n",
      "4\n",
      "6\n",
      "8\n",
      "10\n"
     ]
    }
   ],
   "source": [
    "#3)What is an iterator in python? Name the method used to initialise the iterator object and the method used for iteration.\n",
    "#  iteration. Use these methods to print the first five elements of the given list [2, 4, 6, 8, 10, 12, 14, 16, 18, 20].\n",
    "'''\n",
    "Iterator in Python is an object that is used to iterate over iterable objects like lists, tuples, dicts, and sets.\n",
    "iter() method is used to initialize iterator.\n",
    "next() method is used for iteration.\n",
    "'''\n",
    "\n",
    "l=[2, 4, 6, 8, 10, 12, 14, 16, 18, 20]\n",
    "\n",
    "i=iter(l)\n",
    "\n",
    "print(next(i))\n",
    "print(next(i))\n",
    "print(next(i))\n",
    "print(next(i))\n",
    "print(next(i))"
   ]
  },
  {
   "cell_type": "code",
   "execution_count": 10,
   "id": "4220f2fd-9df2-4015-8283-8df33aa2ee88",
   "metadata": {},
   "outputs": [
    {
     "name": "stdout",
     "output_type": "stream",
     "text": [
      "0\n",
      "1\n",
      "1\n",
      "2\n",
      "3\n"
     ]
    }
   ],
   "source": [
    "#4) What is a generator function in python? Why yield keyword is used? Give an example of a generator function.\n",
    "'''\n",
    "---> A generator is a function that returns an iterator that produces a sequence of values when iterated over.\n",
    "---> Yield keyword is used to create a generator function.\n",
    "'''\n",
    "def fibo(n):\n",
    "    a,b=0,1\n",
    "    while a<n:\n",
    "        yield a\n",
    "        a,b=b,a+b\n",
    "\n",
    "x=fibo(5)\n",
    "\n",
    "for i in fibo(5):\n",
    "    print(i)"
   ]
  },
  {
   "cell_type": "code",
   "execution_count": 30,
   "id": "3d731a4c-00e3-4792-84b9-e20d38e7e367",
   "metadata": {},
   "outputs": [
    {
     "name": "stdout",
     "output_type": "stream",
     "text": [
      "2\n",
      "3\n",
      "5\n",
      "7\n",
      "11\n",
      "13\n",
      "17\n",
      "19\n",
      "23\n",
      "29\n",
      "31\n",
      "37\n",
      "41\n",
      "43\n",
      "47\n",
      "53\n",
      "59\n",
      "61\n",
      "67\n",
      "71\n"
     ]
    }
   ],
   "source": [
    "#5) Create a generator function for prime numbers less than 1000. Use the next() method to print the first 20 prime numbers.\n",
    "\n",
    "import math\n",
    "\n",
    "def prime():\n",
    "    flag=0\n",
    "    \n",
    "    for i in range(1,1001):\n",
    "        if (i==2):\n",
    "            yield 2\n",
    "        elif(i==3):\n",
    "            yield 3\n",
    "        else:\n",
    "            for j in range(2,int(math.sqrt(i))+1):\n",
    "                if(i%j==0):\n",
    "                    flag=0\n",
    "                    break\n",
    "                else:\n",
    "                    flag=1\n",
    "            \n",
    "        \n",
    "        if(flag==1):\n",
    "            yield i\n",
    "x=prime()\n",
    "\n",
    "for i in range(1,21):\n",
    "    print(next(x))"
   ]
  },
  {
   "cell_type": "code",
   "execution_count": 31,
   "id": "ccd3b16e-5769-4ce7-9bea-1ca9b27a0a9c",
   "metadata": {},
   "outputs": [
    {
     "name": "stdout",
     "output_type": "stream",
     "text": [
      "0\n",
      "1\n",
      "1\n",
      "2\n",
      "3\n"
     ]
    }
   ],
   "source": [
    "#6) Write a python program to print the first 10 Fibonacci numbers using a while loop.\n",
    "\n",
    "def fibo(n):\n",
    "    a,b=0,1\n",
    "    while(a<n):\n",
    "        print(a)\n",
    "        a,b=b,a+b\n",
    "\n",
    "fibo(5)"
   ]
  },
  {
   "cell_type": "code",
   "execution_count": 33,
   "id": "fa3d9f59-f9bf-4f39-8646-52ec48db72cf",
   "metadata": {},
   "outputs": [
    {
     "data": {
      "text/plain": [
       "['p', 'w', 's', 'k', 'i', 'l', 'l', 's']"
      ]
     },
     "execution_count": 33,
     "metadata": {},
     "output_type": "execute_result"
    }
   ],
   "source": [
    "#7) Write a List Comprehension to iterate through the given string: ‘pwskills’. Expected output: ['p', 'w', 's', 'k', 'i', 'l', 'l', 's']\n",
    "\n",
    "s='pwskills'\n",
    "\n",
    "[i for i in s]\n"
   ]
  },
  {
   "cell_type": "code",
   "execution_count": 41,
   "id": "bc3de236-a260-4e01-ab02-3414fe8eb090",
   "metadata": {},
   "outputs": [
    {
     "name": "stdin",
     "output_type": "stream",
     "text": [
      "Enter a number :  121\n"
     ]
    },
    {
     "name": "stdout",
     "output_type": "stream",
     "text": [
      "121\n",
      "Number is palindrom\n"
     ]
    }
   ],
   "source": [
    "#8) Write a python program to check whether a given number is Palindrome or not using a while loop.\n",
    "n=int(input('Enter a number : '))\n",
    "\n",
    "p=n\n",
    "\n",
    "x=0\n",
    "\n",
    "while n>0:\n",
    "    t=int(n%10)\n",
    "    x=x*10+t\n",
    "    n=int(n/10)\n",
    "    \n",
    "print(x)\n",
    "if(x==p):\n",
    "    print('Number is palindrome')\n",
    "else:\n",
    "    print('Number is not palindrome')"
   ]
  },
  {
   "cell_type": "code",
   "execution_count": 42,
   "id": "e4e1700d-8ad8-4dea-bf5d-b6c257d6bddc",
   "metadata": {},
   "outputs": [
    {
     "name": "stdout",
     "output_type": "stream",
     "text": [
      "[True, False, True, False, True, False, True, False, True, False, True, False, True, False, True, False, True, False, True, False, True, False, True, False, True, False, True, False, True, False, True, False, True, False, True, False, True, False, True, False, True, False, True, False, True, False, True, False, True, False, True, False, True, False, True, False, True, False, True, False, True, False, True, False, True, False, True, False, True, False, True, False, True, False, True, False, True, False, True, False, True, False, True, False, True, False, True, False, True, False, True, False, True, False, True, False, True, False, True, False]\n"
     ]
    }
   ],
   "source": [
    "#9) Write a code to print odd numbers from 1 to 100 using list comprehension.\n",
    "[i%2!=0 for i in range(1,101)]"
   ]
  },
  {
   "cell_type": "code",
   "execution_count": null,
   "id": "4a1c8cf9-d1d2-4101-9da6-db218d6d445b",
   "metadata": {},
   "outputs": [],
   "source": []
  }
 ],
 "metadata": {
  "kernelspec": {
   "display_name": "Python 3 (ipykernel)",
   "language": "python",
   "name": "python3"
  },
  "language_info": {
   "codemirror_mode": {
    "name": "ipython",
    "version": 3
   },
   "file_extension": ".py",
   "mimetype": "text/x-python",
   "name": "python",
   "nbconvert_exporter": "python",
   "pygments_lexer": "ipython3",
   "version": "3.10.8"
  }
 },
 "nbformat": 4,
 "nbformat_minor": 5
}
